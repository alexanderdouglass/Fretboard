{
 "cells": [
  {
   "cell_type": "raw",
   "id": "3e21ef3d-8b5e-4aac-9c23-b16d907c943f",
   "metadata": {},
   "source": [
    "FUNCTIONALITY TO ADD:\n",
    "\n",
    "Instrument:\n",
    "-Create fretboard showing scale shapes.\n",
    "\n",
    "Keys:\n",
    "-Print scales on musical notation.\n",
    "-Print scaled in tabulature.\n",
    "\n",
    "Chords:\n",
    "-Use open strings on chords that are up the neck.\n",
    "-Find all chords along a section of the neck that also meet the stretch requirements (instead of a fixed position).\n",
    "-Prioritize notes that are NEEDED for chords (e.g. don't give CEG when I input C7).\n",
    "-Print in musical notation.\n",
    "-Print in tablature notation.\n",
    "\n",
    "\n",
    "BUGS TO FIX:\n",
    "-max_strings doesn't work right.\n",
    "-Send error message when chord doesn't exist within given parameters."
   ]
  },
  {
   "cell_type": "code",
   "execution_count": null,
   "id": "9440ddff-be0f-48e1-b2c6-021a6a2d98a8",
   "metadata": {},
   "outputs": [],
   "source": [
    "import sys\n",
    "sys.path.insert(0,'fretboard')\n",
    "# import fretboard as fb\n",
    "import instrument\n",
    "import keys"
   ]
  },
  {
   "cell_type": "markdown",
   "id": "e48fd9a6-c99c-49ed-ae48-ce08e919736f",
   "metadata": {},
   "source": [
    "# Test Some Keys"
   ]
  },
  {
   "cell_type": "code",
   "execution_count": null,
   "id": "e285cd11-5459-4c53-bd56-bb764ae33863",
   "metadata": {},
   "outputs": [],
   "source": [
    "\n",
    "print('Key of D Major')\n",
    "key = keys.Key('D','Major')\n",
    "keydict = key.keydict()\n",
    "print('All Notes: ' + str(keydict['AllNotes']))\n",
    "print('All Intervals: ' + str(keydict['AllIntervals']))\n",
    "print('Key Notes: ' + str(keydict['KeyNotes']))\n",
    "print('Key Intervals: ' + str(keydict['KeyIntervals']))\n",
    "print('Mode Steps: ' + str(keydict['KeyNoteNums']))\n",
    "\n",
    "print(' ')\n",
    "\n",
    "print('Key of Ab Major')\n",
    "key = keys.Key('Ab','Major')\n",
    "keydict = key.keydict()\n",
    "print('All Notes: ' + str(keydict['AllNotes']))\n",
    "print('All Intervals: ' + str(keydict['AllIntervals']))\n",
    "print('Key Notes: ' + str(keydict['KeyNotes']))\n",
    "print('Key Intervals: ' + str(keydict['KeyIntervals']))\n",
    "print('Mode Steps: ' + str(keydict['KeyNoteNums']))\n",
    "\n",
    "print(' ')\n",
    "\n",
    "print('Key of C# Minor')\n",
    "key = keys.Key('C#','Minor')\n",
    "keydict = key.keydict()\n",
    "print('All Notes: ' + str(keydict['AllNotes']))\n",
    "print('All Intervals: ' + str(keydict['AllIntervals']))\n",
    "print('Key Notes: ' + str(keydict['KeyNotes']))\n",
    "print('Key Intervals: ' + str(keydict['KeyIntervals']))\n",
    "print('Mode Steps: ' + str(keydict['KeyNoteNums']))\n",
    "\n",
    "print(' ')\n",
    "\n",
    "print('Key of A Dorian')\n",
    "key = keys.Key('A','Dorian')\n",
    "keydict = key.keydict()\n",
    "print('All Notes: ' + str(keydict['AllNotes']))\n",
    "print('All Intervals: ' + str(keydict['AllIntervals']))\n",
    "print('Key Notes: ' + str(keydict['KeyNotes']))\n",
    "print('Key Intervals: ' + str(keydict['KeyIntervals']))\n",
    "print('Mode Steps: ' + str(keydict['KeyNoteNums']))\n"
   ]
  },
  {
   "cell_type": "markdown",
   "id": "da64ddc5-b560-43fd-ac74-d66c0a093cac",
   "metadata": {},
   "source": [
    "# Make some fretboards"
   ]
  },
  {
   "cell_type": "code",
   "execution_count": null,
   "id": "6e40577e-6dc5-48d7-ba87-585ec77a6ee2",
   "metadata": {},
   "outputs": [],
   "source": [
    "import sys\n",
    "sys.path.insert(0,'fretboard')\n",
    "import instrument\n",
    "import keys\n",
    "\n",
    "Guitar = instrument.Instrument('Guitar',15)\n",
    "Mandolin = instrument.Instrument('Mandolin',15)\n",
    "GuitarAlt = instrument.Instrument('Custom',12,['D2','A2','D3','F#3','B3','E4'])"
   ]
  },
  {
   "cell_type": "code",
   "execution_count": null,
   "id": "5ed171df-b24b-4291-9951-7cb88532f9dc",
   "metadata": {},
   "outputs": [],
   "source": [
    "print(Guitar.str_notes)"
   ]
  },
  {
   "cell_type": "code",
   "execution_count": null,
   "id": "0e02819a-2036-43e3-992e-b82c90ee0367",
   "metadata": {},
   "outputs": [],
   "source": [
    "print('Full Guitar Fretboard')\n",
    "tmp = Guitar.fretboard()"
   ]
  },
  {
   "cell_type": "code",
   "execution_count": null,
   "id": "6970e962-68d5-402d-9099-e9836bc4031d",
   "metadata": {},
   "outputs": [],
   "source": [
    "print('Guitar Fretboard G Major')\n",
    "key = keys.Key('G','Major')\n",
    "keydict = key.keydict()\n",
    "tmp = Guitar.fretboard(key=key,plot_flag=True,plot_style='Notes')"
   ]
  },
  {
   "cell_type": "code",
   "execution_count": null,
   "id": "d95c41e1-30bd-4f37-b7ed-0e00bfa24d41",
   "metadata": {},
   "outputs": [],
   "source": [
    "print('Guitar Fretboard Eb Major')\n",
    "key = keys.Key('Eb','Major')\n",
    "keydict = key.keydict()\n",
    "tmp = Guitar.fretboard(key=key,plot_flag=True,plot_style='Intervals')"
   ]
  },
  {
   "cell_type": "code",
   "execution_count": null,
   "id": "0fa7b007-a2b6-4219-89e7-a9abf509da83",
   "metadata": {},
   "outputs": [],
   "source": [
    "print('Mandolin Fretboard C# Minor')\n",
    "key = keys.Key('C#','Minor')\n",
    "keydict = key.keydict()\n",
    "tmp = Mandolin.fretboard(key=key,plot_flag=True,plot_style='Notes',open_flag=False)"
   ]
  },
  {
   "cell_type": "code",
   "execution_count": null,
   "id": "e8b14ad2-d4c5-435e-ba22-4c61a1c61df5",
   "metadata": {},
   "outputs": [],
   "source": [
    "print('Alternate Guitar Tuning Fretboard')\n",
    "key = keys.Key('D','Major')\n",
    "keydict = key.keydict()\n",
    "tmp = GuitarAlt.fretboard()\n",
    "tmp = GuitarAlt.fretboard(key=key,plot_flag='Key',plot_style='Notes')\n",
    "tmp = GuitarAlt.fretboard(key=key,plot_flag='Key',plot_style='Intervals')\n",
    "tmp = GuitarAlt.fretboard(key=key,plot_flag='Key',plot_style='Degrees')\n",
    "\n"
   ]
  },
  {
   "cell_type": "markdown",
   "id": "5edeb610-37d0-4688-a535-40c645394b44",
   "metadata": {},
   "source": [
    "# Get Chord Notes and Make Chord Charts"
   ]
  },
  {
   "cell_type": "code",
   "execution_count": null,
   "id": "fe16065c-c210-4331-9187-652f2d4784e3",
   "metadata": {},
   "outputs": [],
   "source": [
    "import sys\n",
    "sys.path.insert(0,'fretboard')\n",
    "import instrument\n",
    "import keys\n",
    "import chords\n",
    "\n",
    "# C Major Chord\n",
    "CMajor = chords.Chord('C')\n",
    "print('C Major Chord: ' + str(CMajor.chord_notes()['Sharp']))\n",
    "\n",
    "# F Diminished Chord\n",
    "Fdim = chords.Chord('Fdim')\n",
    "print('F Diminished Chord: ' + str(Fdim.chord_notes()['Flat']))\n",
    "\n",
    "#  B Minor 7 Chord\n",
    "Bminor7 = chords.Chord('Bm7')\n",
    "print('B Minor 7 Chord: ' + str(Bminor7.chord_notes()['Sharp']))\n",
    "\n",
    "# D9\n",
    "Dnine = chords.Chord('D9')\n",
    "print('D Nine Chord: ' + str(Dnine.chord_notes()['Sharp']))\n"
   ]
  },
  {
   "cell_type": "code",
   "execution_count": null,
   "id": "2956e981-310f-4c4b-a1c3-4683b618a30c",
   "metadata": {},
   "outputs": [],
   "source": [
    "\n",
    "import sys\n",
    "sys.path.insert(0,'fretboard')\n",
    "import instrument\n",
    "import keys\n",
    "import chords\n",
    "\n",
    "tmpChord = chords.Chord('C7')\n",
    "Guitar = instrument.Instrument('Guitar',15)\n",
    "Guitar.chord_charts(tmpChord,pos=4,stretch=5,inversion=1,max_strings=False,accidentals='Flat',plot_style='Notes')\n"
   ]
  },
  {
   "cell_type": "code",
   "execution_count": null,
   "id": "fabe2eaf-fd8a-4f57-8604-7660c240a8f8",
   "metadata": {},
   "outputs": [],
   "source": [
    "\n",
    "tmpChord = chords.Chord('Cm7')\n",
    "Mandolin.chord_charts(tmpChord,pos=0,stretch=7,inversion=0,max_strings=False,accidentals='Sharp',plot_style='Notes')\n"
   ]
  },
  {
   "cell_type": "code",
   "execution_count": null,
   "id": "766f761c-8285-47f6-890b-de3d33ec5b0b",
   "metadata": {},
   "outputs": [],
   "source": []
  }
 ],
 "metadata": {
  "kernelspec": {
   "display_name": "Python 3 (ipykernel)",
   "language": "python",
   "name": "python3"
  },
  "language_info": {
   "codemirror_mode": {
    "name": "ipython",
    "version": 3
   },
   "file_extension": ".py",
   "mimetype": "text/x-python",
   "name": "python",
   "nbconvert_exporter": "python",
   "pygments_lexer": "ipython3",
   "version": "3.10.4"
  }
 },
 "nbformat": 4,
 "nbformat_minor": 5
}
